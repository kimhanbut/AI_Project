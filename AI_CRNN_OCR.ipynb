{
  "nbformat": 4,
  "nbformat_minor": 0,
  "metadata": {
    "colab": {
      "provenance": [],
      "gpuType": "T4",
      "authorship_tag": "ABX9TyPbIfRy9WNrnPr7UN+zj4Rf",
      "include_colab_link": true
    },
    "kernelspec": {
      "name": "python3",
      "display_name": "Python 3"
    },
    "language_info": {
      "name": "python"
    },
    "accelerator": "GPU"
  },
  "cells": [
    {
      "cell_type": "markdown",
      "metadata": {
        "id": "view-in-github",
        "colab_type": "text"
      },
      "source": [
        "<a href=\"https://colab.research.google.com/github/kimhanbut/AI_Project/blob/main/AI_CRNN_OCR.ipynb\" target=\"_parent\"><img src=\"https://colab.research.google.com/assets/colab-badge.svg\" alt=\"Open In Colab\"/></a>"
      ]
    },
    {
      "cell_type": "code",
      "execution_count": null,
      "metadata": {
        "id": "QggN0pTbeQfw"
      },
      "outputs": [],
      "source": [
        "!pip install torch torchvision torchaudio --quiet\n",
        "!pip install matplotlib opencv-python python-bidi arabic-reshaper --quiet\n",
        "!pip install tqdm --quiet"
      ]
    },
    {
      "cell_type": "code",
      "source": [
        "import os\n",
        "\n",
        "image_dir = \"/content/drive/MyDrive/Colab Notebooks/car_num/car_num_img\"\n",
        "json_dir = \"/content/drive/MyDrive/Colab Notebooks/car_num/car_num_json\""
      ],
      "metadata": {
        "id": "q53ufVeFeiIe"
      },
      "execution_count": 3,
      "outputs": []
    },
    {
      "cell_type": "code",
      "source": [
        "import json\n",
        "import cv2\n",
        "import torch\n",
        "from torch.utils.data import Dataset\n",
        "from torchvision import transforms\n",
        "import numpy as np\n",
        "from PIL import Image\n",
        "import torch.nn as nn\n",
        "\n",
        "transform = transforms.Compose([\n",
        "    transforms.Resize((32, 100)),\n",
        "    transforms.ToTensor(),\n",
        "    transforms.Normalize((0.5,), (0.5,))\n",
        "])\n",
        "\n",
        "class OCRDataset(Dataset):\n",
        "    def __init__(self, image_dir, json_dir, transform=transform):\n",
        "        self.image_dir = image_dir\n",
        "        self.samples = []\n",
        "        self.transform = transform\n",
        "\n",
        "        for file_name in os.listdir(json_dir):\n",
        "            if not file_name.endswith(\".json\"):\n",
        "                continue\n",
        "            with open(os.path.join(json_dir, file_name), \"r\", encoding=\"utf-8\") as f:\n",
        "                data = json.load(f)\n",
        "                image_path = os.path.join(image_dir, data[\"imagePath\"])\n",
        "                label = data[\"value\"]\n",
        "                if os.path.exists(image_path):\n",
        "                    self.samples.append((image_path, label))\n",
        "\n",
        "        # 문자 집합 구성\n",
        "        self.charset = sorted(set(char for _, label in self.samples for char in label))\n",
        "        self.char2idx = {char: idx + 1 for idx, char in enumerate(self.charset)}  # 0 = blank for CTC\n",
        "        self.idx2char = {idx: char for char, idx in self.char2idx.items()}\n",
        "\n",
        "    def __len__(self):\n",
        "        return len(self.samples)\n",
        "\n",
        "    def __getitem__(self, idx):\n",
        "        image_path, label = self.samples[idx]\n",
        "        # OpenCV로 읽기 (그레이스케일)\n",
        "        image = cv2.imread(image_path, cv2.IMREAD_GRAYSCALE)\n",
        "        # numpy -> PIL.Image 변환\n",
        "        image = Image.fromarray(image)\n",
        "        # transform이 있다면 적용 (여기서 resize도 함)\n",
        "        if self.transform:\n",
        "            image = self.transform(image)  # 이제 tensor로 변환됨\n",
        "\n",
        "        label_idx = [self.char2idx[char] for char in label]\n",
        "        return image, torch.tensor(label_idx, dtype=torch.long), label\n",
        "\n",
        "    def decode(self, preds):\n",
        "        # greedy decoding\n",
        "        pred_text = ''\n",
        "        prev_idx = -1\n",
        "        for idx in preds:\n",
        "            if idx != prev_idx and idx != 0:\n",
        "                pred_text += self.idx2char.get(idx.item(), '')\n",
        "            prev_idx = idx\n",
        "        return pred_text"
      ],
      "metadata": {
        "id": "z1eYRuoHeiK8"
      },
      "execution_count": 98,
      "outputs": []
    },
    {
      "cell_type": "code",
      "source": [
        "class CRNN(nn.Module):\n",
        "    def __init__(self, num_classes):\n",
        "        super(CRNN, self).__init__()\n",
        "        self.cnn = nn.Sequential(\n",
        "            nn.Conv2d(1, 64, 3, 1, 1), nn.ReLU(), nn.MaxPool2d(2, 2),\n",
        "            nn.Conv2d(64, 128, 3, 1, 1), nn.ReLU(), nn.MaxPool2d(2, 2),\n",
        "            nn.Conv2d(128, 256, 3, 1, 1), nn.ReLU(),\n",
        "            nn.Conv2d(256, 256, 3, 1, 1), nn.ReLU(), nn.MaxPool2d((2, 1), (2, 1)),\n",
        "            nn.Conv2d(256, 512, 3, 1, 1), nn.BatchNorm2d(512), nn.ReLU(),\n",
        "            nn.Conv2d(512, 512, 3, 1, 1), nn.BatchNorm2d(512), nn.ReLU(), nn.MaxPool2d((2, 1), (2, 1)),\n",
        "            nn.Conv2d(512, 512, 2, 1, 0), nn.ReLU()  # output: [B, 512, 1, W]\n",
        "        )\n",
        "\n",
        "        self.rnn1 = nn.LSTM(512, 512, bidirectional=True, batch_first=True)   #원래는 512, 256\n",
        "        self.rnn2 = nn.LSTM(1024, 512, bidirectional=True, batch_first=True)   #원래는 512 256\n",
        "        self.fc = nn.Linear(1024, num_classes)                                 #원래는 512\n",
        "\n",
        "    def forward(self, x):\n",
        "        x = self.cnn(x)\n",
        "        b, c, h, w = x.size()\n",
        "        assert h == 1, f\"Expected height=1, got {h}\"\n",
        "        x = x.squeeze(2).permute(0, 2, 1)  # [B, W, C]\n",
        "\n",
        "        x, _ = self.rnn1(x)\n",
        "        x, _ = self.rnn2(x)\n",
        "\n",
        "        x = self.fc(x)                    # [B, W, C]\n",
        "        x = x.permute(1, 0, 2)            # [W, B, C] = [T, B, C]   T = timescale, B = batch size, C = class amount(0,9, 가 하..+CTC Blank 포함 )\n",
        "        return x"
      ],
      "metadata": {
        "id": "0APAnsAveiNU"
      },
      "execution_count": 99,
      "outputs": []
    },
    {
      "cell_type": "code",
      "source": [
        "from torch.nn import CTCLoss\n",
        "from torch.utils.data import DataLoader, random_split\n",
        "from torch.optim import Adam\n",
        "from tqdm import tqdm\n",
        "from google.colab import drive\n",
        "drive.mount('/content/drive')\n",
        "\n",
        "\n",
        "def custom_collate(batch):\n",
        "    images, labels_idx, labels_str = zip(*batch)\n",
        "    images = torch.stack(images)  # (B, C, H, W)\n",
        "\n",
        "    # labels_idx는 리스트 안에 각 샘플 라벨 텐서\n",
        "    targets = torch.cat(labels_idx)  # concat all target sequences\n",
        "\n",
        "    target_lengths = torch.tensor([len(label) for label in labels_idx], dtype=torch.long)\n",
        "\n",
        "    return images, targets, target_lengths, labels_str\n",
        "\n",
        "\n",
        "dataset = OCRDataset(image_dir, json_dir)\n",
        "train_size = int(0.8 * len(dataset))\n",
        "val_size = len(dataset) - train_size\n",
        "train_dataset, val_dataset = random_split(dataset, [train_size, val_size])\n",
        "train_loader = DataLoader(train_dataset, batch_size=16, shuffle=True, collate_fn=custom_collate)\n",
        "val_loader = DataLoader(val_dataset, batch_size=16, shuffle=False, collate_fn=custom_collate)\n",
        "\n",
        "\n",
        "model = CRNN(num_classes=len(dataset.char2idx) + 1)  # +1 for CTC blank\n",
        "device = torch.device(\"cuda\" if torch.cuda.is_available() else \"cpu\")\n",
        "model.to(device)\n",
        "\n",
        "charset = ['0', '1', '2', '3', '4', '5', '6', '7', '8', '9', '가', '나', '다']  # 실제 문자들\n",
        "char2idx = dataset.char2idx\n",
        "idx_to_char = {idx: char for char, idx in char2idx.items()}\n",
        "\n",
        "criterion = CTCLoss(blank=0, zero_infinity=True)\n",
        "optimizer = Adam(model.parameters(), lr=0.0005)"
      ],
      "metadata": {
        "colab": {
          "base_uri": "https://localhost:8080/"
        },
        "id": "F6Wpet5UeiPs",
        "outputId": "503408e0-0843-4a77-e5b5-37489ee429ec"
      },
      "execution_count": 100,
      "outputs": [
        {
          "output_type": "stream",
          "name": "stdout",
          "text": [
            "Drive already mounted at /content/drive; to attempt to forcibly remount, call drive.mount(\"/content/drive\", force_remount=True).\n"
          ]
        }
      ]
    },
    {
      "cell_type": "code",
      "source": [
        "def evaluate_model(model, dataloader, criterion, idx_to_char, device):\n",
        "    model.eval()\n",
        "    total_loss = 0\n",
        "    total_chars = 0\n",
        "    correct_chars = 0\n",
        "    y_true = []\n",
        "    y_pred = []\n",
        "\n",
        "    with torch.no_grad():\n",
        "        for images, targets, target_lengths, _ in dataloader:\n",
        "            images = images.to(device)\n",
        "            targets = targets.to(device)\n",
        "            target_lengths = target_lengths.to(device)\n",
        "\n",
        "            outputs = model(images)\n",
        "            input_lengths = torch.full(size=(images.size(0),), fill_value=outputs.size(0), dtype=torch.long)\n",
        "\n",
        "            outputs_log_softmax = outputs.log_softmax(2)\n",
        "            loss = criterion(outputs_log_softmax, targets, input_lengths, target_lengths)\n",
        "            total_loss += loss.item()\n",
        "\n",
        "            # 여기서 디코딩은 배치 사이즈가 1일 때랑 다르게 처리해야 함.\n",
        "            # 일단 배치 1개씩 처리하는 예시:\n",
        "\n",
        "            for b in range(images.size(0)):\n",
        "                preds = torch.argmax(outputs[:, b, :], dim=1).cpu().numpy().tolist()\n",
        "\n",
        "                decoded = []\n",
        "                prev = -1\n",
        "                for p in preds:\n",
        "                    if p != prev and p != 0:\n",
        "                        decoded.append(p)\n",
        "                    prev = p\n",
        "                pred_text = ''.join([idx_to_char[i] for i in decoded])\n",
        "\n",
        "                start_idx = sum(target_lengths[:b])\n",
        "                end_idx = start_idx + target_lengths[b].item()\n",
        "                true_text = ''.join([idx_to_char[i.item()] for i in targets[start_idx:end_idx]])\n",
        "\n",
        "                min_len = min(len(pred_text), len(true_text))\n",
        "                correct_chars += sum([pred_text[i] == true_text[i] for i in range(min_len)])\n",
        "                total_chars += len(true_text)\n",
        "\n",
        "                for t_char, p_char in zip(true_text, pred_text):\n",
        "                    y_true.append(t_char)\n",
        "                    y_pred.append(p_char)\n",
        "\n",
        "    acc = correct_chars / total_chars if total_chars else 0\n",
        "    prec = precision_score(y_true, y_pred, average='micro', zero_division=0)\n",
        "    rec = recall_score(y_true, y_pred, average='micro', zero_division=0)\n",
        "\n",
        "    return total_loss, acc, prec, rec"
      ],
      "metadata": {
        "id": "gJkD5QOZRDqt"
      },
      "execution_count": null,
      "outputs": []
    },
    {
      "cell_type": "code",
      "source": [
        "def pad_labels(labels):\n",
        "    max_len = max(len(label) for label in labels)\n",
        "    padded = torch.zeros(len(labels), max_len, dtype=torch.long)\n",
        "    for i, label in enumerate(labels):\n",
        "        padded[i, :len(label)] = label\n",
        "    return padded\n",
        "\n",
        "\n",
        "\n",
        "# 에폭마다 기록된 값들을 저장할 리스트\n",
        "train_losses = []\n",
        "val_losses = []\n",
        "val_accuracies = []\n",
        "val_precisions = []\n",
        "val_recalls = []\n",
        "\n",
        "for epoch in range(200):\n",
        "    model.train()\n",
        "    total_loss = 0\n",
        "\n",
        "    for batch in tqdm(train_loader):\n",
        "        images, targets, target_lengths, _ = batch\n",
        "        images = images.to(device)\n",
        "        targets = targets.to(device)\n",
        "        target_lengths = target_lengths.to(device)\n",
        "\n",
        "        optimizer.zero_grad()\n",
        "        outputs = model(images)\n",
        "        input_lengths = torch.full(size=(images.size(0),), fill_value=outputs.size(0), dtype=torch.long)\n",
        "\n",
        "        loss = criterion(outputs, targets, input_lengths, target_lengths)\n",
        "        loss.backward()\n",
        "        optimizer.step()\n",
        "        total_loss += loss.item()\n",
        "\n",
        "    val_loss, val_acc, val_prec, val_rec = evaluate_model(model, val_loader, criterion, idx_to_char, device)\n",
        "\n",
        "    # 결과 저장\n",
        "    train_losses.append(total_loss)\n",
        "    val_losses.append(val_loss)\n",
        "    val_accuracies.append(val_acc)\n",
        "    val_precisions.append(val_prec)\n",
        "    val_recalls.append(val_rec)\n",
        "\n",
        "    print(f\"[Epoch {epoch+1}] Train Loss: {total_loss:.4f} | Val Loss: {val_loss:.4f} | Acc: {val_acc:.4f} | Precision: {val_prec:.4f} | Recall: {val_rec:.4f}\")\n"
      ],
      "metadata": {
        "id": "heHbrEameiSP"
      },
      "execution_count": null,
      "outputs": []
    },
    {
      "cell_type": "code",
      "source": [
        "model.eval()\n",
        "with torch.no_grad():\n",
        "    for i in range(30):\n",
        "        image, label_idx, label = dataset[i]\n",
        "        image = image.unsqueeze(0).to(device)\n",
        "        output = model(image)\n",
        "        pred = output.argmax(2)[:, 0]\n",
        "        pred_text = dataset.decode(pred)\n",
        "        print(f\"[GT] {label} → [Pred] {pred_text}\")"
      ],
      "metadata": {
        "id": "CWb3Aq37eiUV"
      },
      "execution_count": null,
      "outputs": []
    },
    {
      "cell_type": "code",
      "source": [
        "def ctc_decode(pred_indices, blank=0):\n",
        "    decoded = []\n",
        "    prev = None\n",
        "    for idx in pred_indices:\n",
        "        if idx != blank and idx != prev:\n",
        "            decoded.append(idx)\n",
        "        prev = idx\n",
        "    return decoded\n",
        "\n",
        "decoded_indices = ctc_decode(pred_indices[:, 0].tolist(), blank=0)\n",
        "print(\"Decoded indices:\", decoded_indices)"
      ],
      "metadata": {
        "colab": {
          "base_uri": "https://localhost:8080/"
        },
        "id": "S1PGjM1ReiW1",
        "outputId": "0e69c5fc-76a8-4d43-b1bf-97a5342f1f8d"
      },
      "execution_count": 103,
      "outputs": [
        {
          "output_type": "stream",
          "name": "stdout",
          "text": [
            "Decoded indices: [1, 2, 4, 5]\n"
          ]
        }
      ]
    },
    {
      "cell_type": "code",
      "source": [
        "epochs = range(1, len(train_losses) + 1)\n",
        "\n",
        "plt.figure(figsize=(14, 8))\n",
        "\n",
        "# Loss\n",
        "plt.subplot(2, 2, 1)\n",
        "plt.plot(epochs, train_losses, label='Train Loss', marker='o')\n",
        "plt.plot(epochs, val_losses, label='Val Loss', marker='o')\n",
        "plt.title(\"Loss\")\n",
        "plt.xlabel(\"Epoch\")\n",
        "plt.ylabel(\"Loss\")\n",
        "plt.legend()\n",
        "plt.grid(True)\n",
        "\n",
        "# Accuracy\n",
        "plt.subplot(2, 2, 2)\n",
        "plt.plot(epochs, val_accuracies, label='Accuracy', color='green', marker='o')\n",
        "plt.title(\"Accuracy\")\n",
        "plt.xlabel(\"Epoch\")\n",
        "plt.ylabel(\"Accuracy\")\n",
        "plt.grid(True)\n",
        "\n",
        "# Precision\n",
        "plt.subplot(2, 2, 3)\n",
        "plt.plot(epochs, val_precisions, label='Precision', color='orange', marker='o')\n",
        "plt.title(\"Precision\")\n",
        "plt.xlabel(\"Epoch\")\n",
        "plt.ylabel(\"Precision\")\n",
        "plt.grid(True)\n",
        "\n",
        "# Recall\n",
        "plt.subplot(2, 2, 4)\n",
        "plt.plot(epochs, val_recalls, label='Recall', color='red', marker='o')\n",
        "plt.title(\"Recall\")\n",
        "plt.xlabel(\"Epoch\")\n",
        "plt.ylabel(\"Recall\")\n",
        "plt.grid(True)\n",
        "\n",
        "plt.tight_layout()\n",
        "plt.show()"
      ],
      "metadata": {
        "id": "A4RhMSBSeifz"
      },
      "execution_count": null,
      "outputs": []
    },
    {
      "cell_type": "code",
      "source": [],
      "metadata": {
        "id": "b_Jw-6m4ei7W"
      },
      "execution_count": null,
      "outputs": []
    },
    {
      "cell_type": "code",
      "source": [],
      "metadata": {
        "id": "5h3zFh-oei9_"
      },
      "execution_count": null,
      "outputs": []
    },
    {
      "cell_type": "code",
      "source": [],
      "metadata": {
        "id": "jfsvdTEnei_0"
      },
      "execution_count": null,
      "outputs": []
    }
  ]
}